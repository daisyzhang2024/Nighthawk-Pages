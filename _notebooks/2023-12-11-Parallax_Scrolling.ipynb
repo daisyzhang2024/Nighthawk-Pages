{
 "cells": [
  {
   "cell_type": "markdown",
   "metadata": {},
   "source": [
    "---\n",
    "comments: true\n",
    "layout: notebook\n",
    "title: Parallax Scrolling\n",
    "description: A demo of parallax scrolling in Mario Game\n",
    "type: hacks\n",
    "toc: true\n",
    "---"
   ]
  },
  {
   "cell_type": "markdown",
   "metadata": {},
   "source": [
    "# Introduction\n",
    "Parallax scrolling occurs when there are different layers of backgrounds that move at different speeds in relation to the character to create a sense of depth. In other words, one thing is stationary while a background moves. Parallax scrolling can be beneficial by adding interest to an otherwise static website/game. Transitions from screen to screen and other transitions that happen when the user does something like press buttons, can also help the game feel smoother.\n",
    "\n",
    "Some cool examples of Parallax Scrolling and resources:\n",
    "- https://kevinzhangweb.com/ \n",
    "- http://springsummer.gucci.com/ \n",
    "- https://www.spacex.com/vehicles/falcon-9/ \n",
    "- [What is a parallax effect](https://www.sketch.com/blog/what-is-a-parallax-effect/)\n",
    "- [17 unique websites with parallax scrolling effects](https://webflow.com/blog/parallax-scrolling)\n",
    "\n",
    "Many other cool techy websites also have parallax!\n"
   ]
  },
  {
   "cell_type": "markdown",
   "metadata": {},
   "source": [
    "## First step: Overlaying backgrounds. Make sure to add images in slack in the images/background folder.\n",
    "Define mountains as a background image; do this in the main file (2023-11-27-CSSE-oop-game-levels.md) in assets within the background asset."
   ]
  },
  {
   "cell_type": "code",
   "execution_count": null,
   "metadata": {
    "vscode": {
     "languageId": "javascript"
    }
   },
   "outputs": [],
   "source": [
    "  // Define assets for the game\n",
    "  var assets = {\n",
    "    obstacles: {\n",
    "      tube: { src: \"/images/platformer/obstacles/tube.png\" },\n",
    "    },\n",
    "    platforms: {\n",
    "      grass: { src: \"/images/platformer/platforms/grass.png\" },\n",
    "      alien: { src: \"/images/platformer/platforms/alien.png\" }\n",
    "    },\n",
    "    thing: {\n",
    "      coin: { src: \"/images/Coin.png\" }, //Add this one!\n",
    "    },  \n",
    "    platformO: {\n",
    "      grass: { src: \"/images/brick_wall.png\" },\n",
    "    },\n",
    "    \n",
    "    backgrounds: {\n",
    "      start: { src: \"/images/platformer/backgrounds/home.png\" },\n",
    "      hills: { src: \"/images/platformer/backgrounds/hills.png\" },\n",
    "      planet: { src: \"/images/platformer/backgrounds/planet.jpg\" },\n",
    "      castles: { src: \"/images/platformer/backgrounds/castles.png\" },\n",
    "      end: { src: \"/images/platformer/backgrounds/game_over.png\" },\n",
    "      mountains: { src: \"/images/platformer/backgrounds/mountains.jpg\"}\n",
    "    },\n",
    "    // other stuff\n",
    "}"
   ]
  },
  {
   "cell_type": "markdown",
   "metadata": {},
   "source": [
    "Add mountains as “background2” to the GameLevel constructor, also in the main game file. It is important to put this background with the other game assets in the “hills” tag."
   ]
  },
  {
   "cell_type": "code",
   "execution_count": null,
   "metadata": {
    "vscode": {
     "languageId": "javascript"
    }
   },
   "outputs": [],
   "source": [
    "new GameLevel( {tag: \"hills\", background: assets.backgrounds.hills, background2: assets.backgrounds.mountains, platform: assets.platforms.grass, player: assets.players.mario, tube: assets.obstacles.tube, callback: testerCallBack } );"
   ]
  },
  {
   "cell_type": "markdown",
   "metadata": {},
   "source": [
    "Define backgroundImg2 in GameLevel.js file within the constructors. This allows us to link the parameters within the constructor within the class GameObject including canvas, image and speedRatio to the second background image. Order is important here!"
   ]
  },
  {
   "cell_type": "code",
   "execution_count": null,
   "metadata": {
    "vscode": {
     "languageId": "javascript"
    }
   },
   "outputs": [],
   "source": [
    "class GameLevel {\n",
    "    constructor(gameObject) {\n",
    "        // conditional assignments from GameObject to instance variables\n",
    "        this.tag = gameObject?.tag;\n",
    "        this.backgroundImg2 = gameObject.background2?.file;\n",
    "        this.backgroundImg = gameObject.background?.file;\n",
    "        // other stuff\n",
    "    }\n",
    "}"
   ]
  },
  {
   "cell_type": "markdown",
   "metadata": {},
   "source": [
    "Load backgroundImg2. This is basically “testing for the presence of images” and is also in the GameLevel.js file. Here, we just copied and pasted the code for the first background image and changed “backgroundImg” to “backgroundImg2.” Order is important here!"
   ]
  },
  {
   "cell_type": "code",
   "execution_count": null,
   "metadata": {
    "vscode": {
     "languageId": "javascript"
    }
   },
   "outputs": [],
   "source": [
    "async load() {\n",
    "        \n",
    "    // test for presence of Images\n",
    "    const imagesToLoad = [];\n",
    "    if (this.backgroundImg2) { // NOTE: DO NOT TOUCH AT ALL PLEASE\n",
    "        imagesToLoad.push(this.loadImage(this.backgroundImg2));\n",
    "    }\n",
    "    if (this.backgroundImg) {\n",
    "        imagesToLoad.push(this.loadImage(this.backgroundImg));\n",
    "    }\n",
    "}"
   ]
  },
  {
   "cell_type": "markdown",
   "metadata": {},
   "source": [
    "Below the comment “// Prepare HTML with Background Canvas (if backgroundImg is defined)” in the GameLevel.js file copy and paste backgroundImg statement except replace with backgroundImg2. *It is important to put this chunk of code before backgroundImg if statement,* or else will not be below it as the bottom layer."
   ]
  },
  {
   "cell_type": "code",
   "execution_count": null,
   "metadata": {
    "vscode": {
     "languageId": "javascript"
    }
   },
   "outputs": [],
   "source": [
    "try {\n",
    "    // Do not proceed until images are loaded\n",
    "    const loadedImages = await Promise.all(imagesToLoad);\n",
    "    var i = 0;\n",
    "\n",
    "    // Prepare HTML with Background Canvas (if backgroundImg is defined)\n",
    "    if (this.backgroundImg2) {\n",
    "        const backgroundCanvas = document.createElement(\"canvas\");\n",
    "        backgroundCanvas.id = \"background\";\n",
    "        document.querySelector(\"#canvasContainer\").appendChild(backgroundCanvas);\n",
    "        const backgroundSpeedRatio = 1;\n",
    "        new Background(backgroundCanvas, loadedImages[i], backgroundSpeedRatio);\n",
    "        i++;\n",
    "    }\n",
    "    if (this.backgroundImg) {\n",
    "        const backgroundCanvas = document.createElement(\"canvas\");\n",
    "        backgroundCanvas.id = \"background\";\n",
    "        document.querySelector(\"#canvasContainer\").appendChild(backgroundCanvas);\n",
    "        const backgroundSpeedRatio = 0;\n",
    "        new Background(backgroundCanvas, loadedImages[i], backgroundSpeedRatio);\n",
    "        i++;\n",
    "    }\n",
    "}"
   ]
  },
  {
   "cell_type": "markdown",
   "metadata": {},
   "source": [
    "## Adding the actual parallax effect. Bottom background is moving while hills background is stationery. \n",
    "Change backgroundSpeedRatio to 1 in the GameLevel.js file, make sure this is for background image 2. Potential problems: the mario character may not ago as fast as you want it to; in order to make it go faster set the backgroundSpeedRatio to greater value."
   ]
  },
  {
   "cell_type": "code",
   "execution_count": null,
   "metadata": {
    "vscode": {
     "languageId": "javascript"
    }
   },
   "outputs": [],
   "source": [
    "if (this.backgroundImg2) {\n",
    "    const backgroundCanvas = document.createElement(\"canvas\");\n",
    "    backgroundCanvas.id = \"background\";\n",
    "    document.querySelector(\"#canvasContainer\").appendChild(backgroundCanvas);\n",
    "    const backgroundSpeedRatio = 1;\n",
    "    new Background(backgroundCanvas, loadedImages[i], backgroundSpeedRatio);\n",
    "    i++;\n",
    "}"
   ]
  },
  {
   "cell_type": "markdown",
   "metadata": {},
   "source": [
    "## Adding transition effect.\n",
    "Add keyframes in the main game file in the <style> </style> brackets, in this case fade in and fadeout change opacity and flashing makes button flash with 0.5s between each flash. Referencing the ids created in the GameLevel.js file “background” and “platform.”\n"
   ]
  },
  {
   "cell_type": "code",
   "execution_count": null,
   "metadata": {
    "vscode": {
     "languageId": "html"
    }
   },
   "outputs": [],
   "source": [
    "<style>\n",
    "    #gameBegin, #controls, #gameOver {\n",
    "        position: relative;\n",
    "        z-index: 2; /*Ensure the controls are on top*/\n",
    "    }\n",
    "\n",
    "#toggleCanvasEffect, #background, #platform{\n",
    "  animation: fadein 5s;\n",
    "}\n",
    "\n",
    "#startGame{\n",
    "  animation: flash 0.5s infinite;\n",
    "}\n",
    "\n",
    "@keyframes flash {\n",
    "  50% {\n",
    "    opacity: 0;\n",
    "  }\n",
    "}\n",
    "@keyframes fadeout{\n",
    "    from {opacity: 1}\n",
    "    to {opacity: 0}\n",
    "}\n",
    "\n",
    "@keyframes fadein{\n",
    "    from {opacity: 0}\n",
    "    to {opacity: 1}\n",
    "}\n",
    "</style>"
   ]
  }
 ],
 "metadata": {
  "language_info": {
   "name": "python"
  },
  "orig_nbformat": 4
 },
 "nbformat": 4,
 "nbformat_minor": 2
}
